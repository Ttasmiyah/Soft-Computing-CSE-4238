{
  "nbformat": 4,
  "nbformat_minor": 0,
  "metadata": {
    "colab": {
      "name": "170104033.ipynb",
      "provenance": [],
      "collapsed_sections": []
    },
    "kernelspec": {
      "name": "python3",
      "display_name": "Python 3"
    },
    "language_info": {
      "name": "python"
    },
    "accelerator": "GPU"
  },
  "cells": [
    {
      "cell_type": "code",
      "metadata": {
        "colab": {
          "base_uri": "https://localhost:8080/"
        },
        "id": "cjT53blqLYw3",
        "outputId": "fe70e38c-8c9f-4070-d25b-a10ad976c82a"
      },
      "source": [
        "from google.colab import drive\n",
        "drive.mount('/content/drive')"
      ],
      "execution_count": null,
      "outputs": [
        {
          "output_type": "stream",
          "text": [
            "Drive already mounted at /content/drive; to attempt to forcibly remount, call drive.mount(\"/content/drive\", force_remount=True).\n"
          ],
          "name": "stdout"
        }
      ]
    },
    {
      "cell_type": "code",
      "metadata": {
        "id": "HT9i40sMM5lt"
      },
      "source": [
        "import os\n",
        "import pandas as pd\n",
        "import torch\n",
        "from torch.utils.data import Dataset, DataLoader  \n",
        "from skimage import io"
      ],
      "execution_count": 1,
      "outputs": []
    },
    {
      "cell_type": "code",
      "metadata": {
        "id": "EvahDt2be8xz"
      },
      "source": [
        "import torch\n",
        "import torch.nn as nn\n",
        "import torchvision.transforms as transforms"
      ],
      "execution_count": null,
      "outputs": []
    },
    {
      "cell_type": "markdown",
      "metadata": {
        "id": "CdvCkig7I4fY"
      },
      "source": [
        "# Experiment 3"
      ]
    },
    {
      "cell_type": "code",
      "metadata": {
        "colab": {
          "base_uri": "https://localhost:8080/"
        },
        "id": "my-Lx-VJI5zT",
        "outputId": "9f14c22f-2cdb-4f3d-b294-4cc068c344a0"
      },
      "source": [
        "!unzip \"/content/drive/MyDrive/Colab Notebooks/Soft Computing/Assignment 2/Dataset_2.zip\""
      ],
      "execution_count": null,
      "outputs": [
        {
          "output_type": "stream",
          "text": [
            "Archive:  /content/drive/MyDrive/Colab Notebooks/Soft Computing/Assignment 2/Dataset_2.zip\n",
            "   creating: Dataset_2/\n",
            "  inflating: Dataset_2/t10k-images-idx3-ubyte  \n",
            "  inflating: Dataset_2/t10k-labels-idx1-ubyte  \n",
            "  inflating: Dataset_2/train-images-idx3-ubyte  \n",
            "  inflating: Dataset_2/train-labels-idx1-ubyte  \n",
            "  inflating: Dataset_2/verification_test.csv  \n",
            "  inflating: Dataset_2/verification_train.csv  \n"
          ],
          "name": "stdout"
        }
      ]
    },
    {
      "cell_type": "code",
      "metadata": {
        "id": "WpoWmdLjJLML"
      },
      "source": [
        "train_csv2  = pd.read_csv('/content/drive/MyDrive/Colab Notebooks/Soft Computing/Assignment 2/verification_train.csv')\n",
        "test_csv2 = pd.read_csv('/content/drive/MyDrive/Colab Notebooks/Soft Computing/Assignment 2/verification_test.csv')"
      ],
      "execution_count": null,
      "outputs": []
    },
    {
      "cell_type": "code",
      "metadata": {
        "id": "rtmU_CAKJlVN"
      },
      "source": [
        "import numpy as np\n",
        "class second_Dataset(Dataset):\n",
        "    \"\"\"User defined class to build a datset using Pytorch class Dataset.\"\"\"\n",
        "    \n",
        "    def __init__(self, data, transform = None):\n",
        "        \"\"\"Method to initilaize variables.\"\"\" \n",
        "        self.data_MNIST = list(data.values)\n",
        "        self.transform = transform\n",
        "        \n",
        "        label = []\n",
        "        image = []\n",
        "        \n",
        "        for i in self.data_MNIST:\n",
        "             # first column is of labels.\n",
        "            label.append(i[0])\n",
        "            image.append(i[1:])\n",
        "        self.labels = np.asarray(label)\n",
        "        self.images = np.asarray(image).reshape(-1, 28, 28, 1).astype('float32')\n",
        "\n",
        "    def __getitem__(self, index):\n",
        "        label = self.labels[index]\n",
        "        image = self.images[index]\n",
        "        \n",
        "        if self.transform is not None:\n",
        "            image = self.transform(image)\n",
        "\n",
        "        return image, label\n",
        "\n",
        "    def __len__(self):\n",
        "        return len(self.images)"
      ],
      "execution_count": null,
      "outputs": []
    },
    {
      "cell_type": "code",
      "metadata": {
        "id": "a1jEAEZCKQIU"
      },
      "source": [
        "train_set = second_Dataset(train_csv2, transform=transforms.Compose([transforms.ToTensor()]))\n",
        "test_set = second_Dataset(test_csv2, transform=transforms.Compose([transforms.ToTensor()]))\n",
        "\n",
        "train_loader = DataLoader(train_set, batch_size=100)\n",
        "test_loader = DataLoader(train_set, batch_size=100)"
      ],
      "execution_count": null,
      "outputs": []
    },
    {
      "cell_type": "markdown",
      "metadata": {
        "id": "OywTz1uCLg_V"
      },
      "source": [
        "For experiment 1"
      ]
    },
    {
      "cell_type": "code",
      "metadata": {
        "id": "Ibi99LNUKlc-"
      },
      "source": [
        "# Hyperparameters\n",
        "\n",
        "batch_size = 20\n",
        "num_iters = 20000\n",
        "input_dim = 28*28 # num_features = 784\n",
        "num_hidden = 200 # num of hidden nodes\n",
        "output_dim = 10\n",
        "\n",
        "learning_rate = 0.01  # More power so we can learn faster! previously it was 0.001\n",
        "\n",
        "# Device\n",
        "device = torch.device(\"cuda:0\" if torch.cuda.is_available() else \"cpu\")"
      ],
      "execution_count": null,
      "outputs": []
    },
    {
      "cell_type": "code",
      "metadata": {
        "id": "NTSojqB1LyYy"
      },
      "source": [
        "'''\n",
        "MAKING DATASET ITERABLE\n",
        "'''\n",
        "num_epochs = num_iters / (len(train_set) / batch_size)\n",
        "num_epochs = int(num_epochs)\n",
        "\n",
        "train_loader = torch.utils.data.DataLoader(dataset=train_set, \n",
        "                                           batch_size=batch_size, \n",
        "                                           shuffle=True)   # It's better to shuffle the whole training dataset! \n",
        "\n",
        "test_loader = torch.utils.data.DataLoader(dataset=test_set, \n",
        "                                          batch_size=batch_size, \n",
        "                                          shuffle=False)  \n"
      ],
      "execution_count": null,
      "outputs": []
    },
    {
      "cell_type": "code",
      "metadata": {
        "colab": {
          "base_uri": "https://localhost:8080/"
        },
        "id": "Za7FBndHL3HN",
        "outputId": "03d05529-5a93-4beb-fbaa-8172233ceaeb"
      },
      "source": [
        "print(len(train_set))\n",
        "print(len(test_set))"
      ],
      "execution_count": null,
      "outputs": [
        {
          "output_type": "stream",
          "text": [
            "60000\n",
            "10000\n"
          ],
          "name": "stdout"
        }
      ]
    },
    {
      "cell_type": "code",
      "metadata": {
        "colab": {
          "base_uri": "https://localhost:8080/"
        },
        "id": "tdJtSw82MSSB",
        "outputId": "9667e7eb-8c26-42b6-fff3-a6ba6573744d"
      },
      "source": [
        "class DeepNeuralNetworkModel(nn.Module):\n",
        "    def __init__(self, input_size, num_classes, num_hidden):\n",
        "        super().__init__()\n",
        "        ### 1st hidden layer: 784 --> 100\n",
        "        self.linear_1 = nn.Linear(input_size, num_hidden)\n",
        "        ### Non-linearity in 1st hidden layer\n",
        "        self.relu_1 = nn.ReLU()\n",
        "\n",
        "        ### 2nd hidden layer: 100 --> 100\n",
        "        self.linear_2 = nn.Linear(num_hidden, num_hidden)\n",
        "        ### Non-linearity in 2nd hidden layer\n",
        "        self.relu_2 = nn.ReLU()\n",
        "\n",
        "        ### 3rd hidden layer: 100 --> 100\n",
        "        self.linear_3 = nn.Linear(num_hidden, num_hidden)\n",
        "        ### Non-linearity in 2nd hidden layer\n",
        "        self.relu_3 = nn.ReLU()\n",
        "\n",
        "        ### 4th hidden layer: 100 --> 100\n",
        "        self.linear_4 = nn.Linear(num_hidden, num_hidden)\n",
        "        ### Non-linearity in 2nd hidden layer\n",
        "        self.relu_4 = nn.ReLU()\n",
        "\n",
        "        ### 5th hidden layer: 100 --> 100\n",
        "        self.linear_5 = nn.Linear(num_hidden, num_hidden)\n",
        "        ### Non-linearity in 2nd hidden layer\n",
        "        self.relu_5 = nn.ReLU()\n",
        "\n",
        "        ### 6th hidden layer: 100 --> 100\n",
        "        self.linear_6 = nn.Linear(num_hidden, num_hidden)\n",
        "        ### Non-linearity in 2nd hidden layer\n",
        "        self.relu_6 = nn.ReLU()\n",
        "\n",
        "        ### Output layer: 100 --> 10\n",
        "        self.linear_out = nn.Linear(num_hidden, num_classes)\n",
        "\n",
        "    def forward(self, x):\n",
        "        ### 1st hidden layer\n",
        "        out  = self.linear_1(x)\n",
        "        ### Non-linearity in 1st hidden layer\n",
        "        out = self.relu_1(out)\n",
        "        \n",
        "        ### 2nd hidden layer\n",
        "        out  = self.linear_2(out)\n",
        "        ### Non-linearity in 2nd hidden layer\n",
        "        out = self.relu_2(out)\n",
        "        \n",
        "        ### 3rd hidden layer\n",
        "        out  = self.linear_3(out)\n",
        "        ### Non-linearity in 1st hidden layer\n",
        "        out = self.relu_3(out)\n",
        "        \n",
        "        ### 4th hidden layer\n",
        "        out  = self.linear_4(out)\n",
        "        ### Non-linearity in 2nd hidden layer\n",
        "        out = self.relu_4(out)\n",
        "\n",
        "        ### 5th hidden layer\n",
        "        out  = self.linear_5(out)\n",
        "        ### Non-linearity in 1st hidden layer\n",
        "        out = self.relu_5(out)\n",
        "        \n",
        "        ### 6th hidden layer\n",
        "        out  = self.linear_6(out)\n",
        "        ### Non-linearity in 2nd hidden layer\n",
        "        out = self.relu_6(out)\n",
        "     \n",
        "        # Linear layer (output)\n",
        "        probas  = self.linear_out(out)\n",
        "        return probas\n",
        "\n",
        "\n",
        "# INSTANTIATE MODEL CLASS\n",
        "\n",
        "model = DeepNeuralNetworkModel(input_size = input_dim,\n",
        "                               num_classes = output_dim,\n",
        "                               num_hidden = num_hidden)\n",
        "# To enable GPU\n",
        "model.to(device)\n",
        "\n",
        "# INSTANTIATE LOSS & OPTIMIZER CLASS\n",
        "\n",
        "criterion = nn.CrossEntropyLoss()\n",
        "optimizer = torch.optim.SGD(model.parameters(), lr=learning_rate)\n",
        "iteration_loss= []\n",
        "iter = 0\n",
        "for epoch in range(num_epochs):\n",
        "    for i, (images, labels) in enumerate(train_loader):\n",
        "\n",
        "        images = images.view(-1, 28*28).to(device)\n",
        "        labels = labels.to(device)\n",
        "\n",
        "        # Clear gradients w.r.t. parameters\n",
        "        optimizer.zero_grad()\n",
        "\n",
        "        # Forward pass to get output/logits\n",
        "        outputs = model(images) \n",
        "\n",
        "        # Calculate Loss: softmax --> cross entropy loss\n",
        "        loss = criterion(outputs, labels)\n",
        "\n",
        "        # Getting gradients w.r.t. parameters\n",
        "        loss.backward()\n",
        "\n",
        "        # Updating parameters\n",
        "        optimizer.step()\n",
        "\n",
        "        iter += 1\n",
        "\n",
        "        if iter % 500 == 0:\n",
        "            # Calculate Accuracy         \n",
        "            correct = 0\n",
        "            total = 0\n",
        "            # Iterate through test dataset\n",
        "            for images, labels in test_loader:\n",
        "               \n",
        "                images = images.view(-1, 28*28).to(device)\n",
        "\n",
        "                # Forward pass only to get logits/output\n",
        "                outputs = model(images)\n",
        "\n",
        "                # Get predictions from the maximum value\n",
        "                _, predicted = torch.max(outputs, 1)\n",
        "\n",
        "                # Total number of labels\n",
        "                total += labels.size(0)\n",
        "\n",
        "\n",
        "                # Total correct predictions\n",
        "                if torch.cuda.is_available():\n",
        "                    correct += (predicted.cpu() == labels.cpu()).sum() \n",
        "                else:\n",
        "                    correct += (predicted == labels).sum()\n",
        "\n",
        "            accuracy = 100 * correct.item() / total\n",
        "\n",
        "            # Print Loss\n",
        "            iteration_loss.append(loss.item())\n",
        "            print('Iteration: {}. Loss: {}. Accuracy: {}'.format(iter, loss.item(), accuracy))"
      ],
      "execution_count": null,
      "outputs": [
        {
          "output_type": "stream",
          "text": [
            "Iteration: 500. Loss: 0.45351308584213257. Accuracy: 78.21\n",
            "Iteration: 1000. Loss: 0.43806368112564087. Accuracy: 78.94\n",
            "Iteration: 1500. Loss: 0.5933514833450317. Accuracy: 83.11\n",
            "Iteration: 2000. Loss: 0.44516754150390625. Accuracy: 83.55\n",
            "Iteration: 2500. Loss: 0.5502718091011047. Accuracy: 83.21\n",
            "Iteration: 3000. Loss: 0.39229685068130493. Accuracy: 83.03\n",
            "Iteration: 3500. Loss: 0.3872542381286621. Accuracy: 85.09\n",
            "Iteration: 4000. Loss: 0.07627919316291809. Accuracy: 84.95\n",
            "Iteration: 4500. Loss: 0.31914693117141724. Accuracy: 84.89\n",
            "Iteration: 5000. Loss: 0.5082411170005798. Accuracy: 86.4\n",
            "Iteration: 5500. Loss: 1.119370698928833. Accuracy: 85.25\n",
            "Iteration: 6000. Loss: 0.11456097662448883. Accuracy: 86.56\n",
            "Iteration: 6500. Loss: 0.386513888835907. Accuracy: 86.57\n",
            "Iteration: 7000. Loss: 0.1942993700504303. Accuracy: 86.65\n",
            "Iteration: 7500. Loss: 0.4924263060092926. Accuracy: 86.05\n",
            "Iteration: 8000. Loss: 0.8463047742843628. Accuracy: 87.03\n",
            "Iteration: 8500. Loss: 0.4972142279148102. Accuracy: 85.49\n",
            "Iteration: 9000. Loss: 0.3761133849620819. Accuracy: 86.46\n",
            "Iteration: 9500. Loss: 0.21196623146533966. Accuracy: 87.42\n",
            "Iteration: 10000. Loss: 0.3028075098991394. Accuracy: 87.07\n",
            "Iteration: 10500. Loss: 0.3701668083667755. Accuracy: 87.52\n",
            "Iteration: 11000. Loss: 0.22082026302814484. Accuracy: 87.56\n",
            "Iteration: 11500. Loss: 0.45007389783859253. Accuracy: 87.9\n",
            "Iteration: 12000. Loss: 0.11477893590927124. Accuracy: 87.94\n",
            "Iteration: 12500. Loss: 0.2712339758872986. Accuracy: 88.26\n",
            "Iteration: 13000. Loss: 0.47871190309524536. Accuracy: 87.3\n",
            "Iteration: 13500. Loss: 0.0787273645401001. Accuracy: 87.74\n",
            "Iteration: 14000. Loss: 0.7117013335227966. Accuracy: 86.81\n",
            "Iteration: 14500. Loss: 0.472402423620224. Accuracy: 87.49\n",
            "Iteration: 15000. Loss: 0.5075234770774841. Accuracy: 87.06\n",
            "Iteration: 15500. Loss: 0.255046010017395. Accuracy: 87.43\n",
            "Iteration: 16000. Loss: 0.3022024631500244. Accuracy: 87.58\n",
            "Iteration: 16500. Loss: 0.11524438858032227. Accuracy: 87.31\n",
            "Iteration: 17000. Loss: 0.36348965764045715. Accuracy: 87.45\n",
            "Iteration: 17500. Loss: 0.18099768459796906. Accuracy: 88.3\n",
            "Iteration: 18000. Loss: 0.2115722894668579. Accuracy: 87.86\n"
          ],
          "name": "stdout"
        }
      ]
    },
    {
      "cell_type": "code",
      "metadata": {
        "colab": {
          "base_uri": "https://localhost:8080/",
          "height": 316
        },
        "id": "Egeoid1fNCBc",
        "outputId": "ca93987b-b919-4d92-b250-e09e3691817b"
      },
      "source": [
        "import matplotlib\n",
        "import matplotlib.pyplot as plt\n",
        "\n",
        "print (iteration_loss)\n",
        "plt.plot(iteration_loss)\n",
        "plt.ylabel('Loss')\n",
        "plt.xlabel('Iteration (in every 500)')\n",
        "plt.show()"
      ],
      "execution_count": null,
      "outputs": [
        {
          "output_type": "stream",
          "text": [
            "[0.45351308584213257, 0.43806368112564087, 0.5933514833450317, 0.44516754150390625, 0.5502718091011047, 0.39229685068130493, 0.3872542381286621, 0.07627919316291809, 0.31914693117141724, 0.5082411170005798, 1.119370698928833, 0.11456097662448883, 0.386513888835907, 0.1942993700504303, 0.4924263060092926, 0.8463047742843628, 0.4972142279148102, 0.3761133849620819, 0.21196623146533966, 0.3028075098991394, 0.3701668083667755, 0.22082026302814484, 0.45007389783859253, 0.11477893590927124, 0.2712339758872986, 0.47871190309524536, 0.0787273645401001, 0.7117013335227966, 0.472402423620224, 0.5075234770774841, 0.255046010017395, 0.3022024631500244, 0.11524438858032227, 0.36348965764045715, 0.18099768459796906, 0.2115722894668579]\n"
          ],
          "name": "stdout"
        },
        {
          "output_type": "display_data",
          "data": {
            "image/png": "[encoded data removed]",
            "text/plain": [
              "<Figure size 432x288 with 1 Axes>"
            ]
          },
          "metadata": {
            "needs_background": "light"
          }
        }
      ]
    },
    {
      "cell_type": "code",
      "metadata": {
        "id": "VJ4itPhFP2U9"
      },
      "source": [
        "save_model = True\n",
        "root_path= '/content/drive/MyDrive/Colab Notebooks'\n",
        "if save_model is True:\n",
        "    # Saves only parameters\n",
        "    # weights & biases\n",
        "    torch.save(model.state_dict(), 'exp3_1.pkl') "
      ],
      "execution_count": null,
      "outputs": []
    },
    {
      "cell_type": "code",
      "metadata": {
        "colab": {
          "base_uri": "https://localhost:8080/"
        },
        "id": "O3aqyJL4QABe",
        "outputId": "799cdee9-4819-42fb-e2d3-73dd73fcccc4"
      },
      "source": [
        "# Load Model\n",
        "load_model = True\n",
        "\n",
        "if load_model is True:\n",
        "    model.load_state_dict(torch.load('exp3_1.pkl'))\n",
        "    print('Trained Model Loaded')"
      ],
      "execution_count": null,
      "outputs": [
        {
          "output_type": "stream",
          "text": [
            "Trained Model Loaded\n"
          ],
          "name": "stdout"
        }
      ]
    },
    {
      "cell_type": "code",
      "metadata": {
        "id": "elXhZZXaQRR_"
      },
      "source": [
        ""
      ],
      "execution_count": null,
      "outputs": []
    },
    {
      "cell_type": "markdown",
      "metadata": {
        "id": "EYDq9VlyQas5"
      },
      "source": [
        "For experiment 2"
      ]
    },
    {
      "cell_type": "code",
      "metadata": {
        "id": "v0V9pbDlQcNf"
      },
      "source": [
        "# Hyperparameters\n",
        "\n",
        "batch_size = 128\n",
        "num_iters = 80000\n",
        "input_dim = 28*28 # num_features = 784\n",
        "num_hidden = 400 # num of hidden nodes\n",
        "output_dim = 10\n",
        "\n",
        "learning_rate = 0.01  # More power so we can learn faster! previously it was 0.001\n",
        "\n",
        "# Device\n",
        "device = torch.device(\"cuda:0\" if torch.cuda.is_available() else \"cpu\")"
      ],
      "execution_count": null,
      "outputs": []
    },
    {
      "cell_type": "code",
      "metadata": {
        "id": "Zl1NxG-9RKPh"
      },
      "source": [
        "'''\n",
        "MAKING DATASET ITERABLE\n",
        "'''\n",
        "num_epochs = num_iters / (len(train_set) / batch_size)\n",
        "num_epochs = int(num_epochs)\n",
        "\n",
        "train_loader = torch.utils.data.DataLoader(dataset=train_set, \n",
        "                                           batch_size=batch_size, \n",
        "                                           shuffle=True)   # It's better to shuffle the whole training dataset! \n",
        "\n",
        "test_loader = torch.utils.data.DataLoader(dataset=test_set, \n",
        "                                          batch_size=batch_size, \n",
        "                                          shuffle=False)  "
      ],
      "execution_count": null,
      "outputs": []
    },
    {
      "cell_type": "code",
      "metadata": {
        "colab": {
          "base_uri": "https://localhost:8080/"
        },
        "id": "MjVggKBIQsiB",
        "outputId": "d5746f13-cc88-49f9-c156-dd39305b9a76"
      },
      "source": [
        "class DeepNeuralNetworkModel(nn.Module):\n",
        "    def __init__(self, input_size, num_classes, num_hidden):\n",
        "        super().__init__()\n",
        "        ### 1st hidden layer: 784 --> 100\n",
        "        self.linear_1 = nn.Linear(input_size, num_hidden)\n",
        "        ### Non-linearity in 1st hidden layer\n",
        "        self.relu_1 = nn.ReLU()\n",
        "\n",
        "        ### 2nd hidden layer: 100 --> 100\n",
        "        self.linear_2 = nn.Linear(num_hidden, num_hidden)\n",
        "        ### Non-linearity in 2nd hidden layer\n",
        "        self.relu_2 = nn.ReLU()\n",
        "\n",
        "        ### 3rd hidden layer: 100 --> 100\n",
        "        self.linear_3 = nn.Linear(num_hidden, num_hidden)\n",
        "        ### Non-linearity in 2nd hidden layer\n",
        "        self.relu_3 = nn.ReLU()\n",
        "\n",
        "        ### Output layer: 100 --> 10\n",
        "        self.linear_out = nn.Linear(num_hidden, num_classes)\n",
        "\n",
        "    def forward(self, x):\n",
        "        ### 1st hidden layer\n",
        "        out  = self.linear_1(x)\n",
        "        ### Non-linearity in 1st hidden layer\n",
        "        out = self.relu_1(out)\n",
        "        \n",
        "        ### 2nd hidden layer\n",
        "        out  = self.linear_2(out)\n",
        "        ### Non-linearity in 2nd hidden layer\n",
        "        out = self.relu_2(out)\n",
        "        \n",
        "        ### 3rd hidden layer\n",
        "        out  = self.linear_3(out)\n",
        "        ### Non-linearity in 1st hidden layer\n",
        "        out = self.relu_3(out)\n",
        "     \n",
        "        # Linear layer (output)\n",
        "        probas  = self.linear_out(out)\n",
        "        return probas\n",
        "\n",
        "\n",
        "# INSTANTIATE MODEL CLASS\n",
        "\n",
        "model = DeepNeuralNetworkModel(input_size = input_dim,\n",
        "                               num_classes = output_dim,\n",
        "                               num_hidden = num_hidden)\n",
        "# To enable GPU\n",
        "model.to(device)\n",
        "\n",
        "# INSTANTIATE LOSS & OPTIMIZER CLASS\n",
        "\n",
        "criterion = nn.CrossEntropyLoss()\n",
        "optimizer = torch.optim.SGD(model.parameters(), lr=learning_rate)\n",
        "\n",
        "iteration_loss = []\n",
        "iter = 0\n",
        "for epoch in range(num_epochs):\n",
        "    for i, (images, labels) in enumerate(train_loader):\n",
        "\n",
        "        images = images.view(-1, 28*28).to(device)\n",
        "        labels = labels.to(device)\n",
        "\n",
        "        # Clear gradients w.r.t. parameters\n",
        "        optimizer.zero_grad()\n",
        "\n",
        "        # Forward pass to get output/logits\n",
        "        outputs = model(images) \n",
        "\n",
        "        # Calculate Loss: softmax --> cross entropy loss\n",
        "        loss = criterion(outputs, labels)\n",
        "\n",
        "        # Getting gradients w.r.t. parameters\n",
        "        loss.backward()\n",
        "\n",
        "        # Updating parameters\n",
        "        optimizer.step()\n",
        "\n",
        "        iter += 1\n",
        "\n",
        "        if iter % 500 == 0:\n",
        "            # Calculate Accuracy         \n",
        "            correct = 0\n",
        "            total = 0\n",
        "            # Iterate through test dataset\n",
        "            for images, labels in test_loader:\n",
        "               \n",
        "                images = images.view(-1, 28*28).to(device)\n",
        "\n",
        "                # Forward pass only to get logits/output\n",
        "                outputs = model(images)\n",
        "\n",
        "                # Get predictions from the maximum value\n",
        "                _, predicted = torch.max(outputs, 1)\n",
        "\n",
        "                # Total number of labels\n",
        "                total += labels.size(0)\n",
        "\n",
        "\n",
        "                # Total correct predictions\n",
        "                if torch.cuda.is_available():\n",
        "                    correct += (predicted.cpu() == labels.cpu()).sum() \n",
        "                else:\n",
        "                    correct += (predicted == labels).sum()\n",
        "\n",
        "            accuracy = 100 * correct.item() / total\n",
        "\n",
        "            # Print Loss\n",
        "            iteration_loss.append(loss.item())\n",
        "            print('Iteration: {}. Loss: {}. Accuracy: {}'.format(iter, loss.item(), accuracy))\n"
      ],
      "execution_count": null,
      "outputs": [
        {
          "output_type": "stream",
          "text": [
            "Iteration: 500. Loss: 0.4738587439060211. Accuracy: 83.08\n",
            "Iteration: 1000. Loss: 0.47023510932922363. Accuracy: 86.35\n",
            "Iteration: 1500. Loss: 0.3189685642719269. Accuracy: 86.53\n",
            "Iteration: 2000. Loss: 0.27260932326316833. Accuracy: 85.27\n",
            "Iteration: 2500. Loss: 0.3673635423183441. Accuracy: 86.67\n",
            "Iteration: 3000. Loss: 0.32289934158325195. Accuracy: 85.57\n",
            "Iteration: 3500. Loss: 0.2411613166332245. Accuracy: 87.66\n",
            "Iteration: 4000. Loss: 0.21831916272640228. Accuracy: 88.41\n",
            "Iteration: 4500. Loss: 0.27037084102630615. Accuracy: 88.48\n",
            "Iteration: 5000. Loss: 0.20464591681957245. Accuracy: 88.54\n",
            "Iteration: 5500. Loss: 0.22762355208396912. Accuracy: 87.98\n",
            "Iteration: 6000. Loss: 0.3160369396209717. Accuracy: 87.82\n",
            "Iteration: 6500. Loss: 0.19084575772285461. Accuracy: 88.59\n",
            "Iteration: 7000. Loss: 0.27513548731803894. Accuracy: 88.92\n",
            "Iteration: 7500. Loss: 0.2468205690383911. Accuracy: 88.79\n",
            "Iteration: 8000. Loss: 0.25499898195266724. Accuracy: 88.9\n",
            "Iteration: 8500. Loss: 0.15696905553340912. Accuracy: 88.86\n",
            "Iteration: 9000. Loss: 0.21567602455615997. Accuracy: 88.49\n",
            "Iteration: 9500. Loss: 0.18217238783836365. Accuracy: 88.68\n",
            "Iteration: 10000. Loss: 0.28525471687316895. Accuracy: 86.9\n",
            "Iteration: 10500. Loss: 0.26999881863594055. Accuracy: 88.82\n",
            "Iteration: 11000. Loss: 0.15512976050376892. Accuracy: 89.38\n",
            "Iteration: 11500. Loss: 0.18894942104816437. Accuracy: 88.77\n",
            "Iteration: 12000. Loss: 0.12030066549777985. Accuracy: 89.22\n",
            "Iteration: 12500. Loss: 0.15930095314979553. Accuracy: 89.54\n",
            "Iteration: 13000. Loss: 0.12433452904224396. Accuracy: 88.59\n",
            "Iteration: 13500. Loss: 0.1438577026128769. Accuracy: 89.17\n",
            "Iteration: 14000. Loss: 0.14395157992839813. Accuracy: 88.65\n",
            "Iteration: 14500. Loss: 0.13300523161888123. Accuracy: 88.61\n",
            "Iteration: 15000. Loss: 0.09983689337968826. Accuracy: 89.3\n",
            "Iteration: 15500. Loss: 0.06287188827991486. Accuracy: 89.42\n",
            "Iteration: 16000. Loss: 0.08262217044830322. Accuracy: 89.6\n",
            "Iteration: 16500. Loss: 0.11179260164499283. Accuracy: 89.28\n",
            "Iteration: 17000. Loss: 0.0754476860165596. Accuracy: 89.32\n",
            "Iteration: 17500. Loss: 0.056864652782678604. Accuracy: 89.32\n",
            "Iteration: 18000. Loss: 0.07365954667329788. Accuracy: 89.46\n",
            "Iteration: 18500. Loss: 0.09390006959438324. Accuracy: 89.04\n",
            "Iteration: 19000. Loss: 0.12591631710529327. Accuracy: 88.48\n",
            "Iteration: 19500. Loss: 0.14185398817062378. Accuracy: 89.02\n",
            "Iteration: 20000. Loss: 0.11033657193183899. Accuracy: 89.12\n",
            "Iteration: 20500. Loss: 0.10613397508859634. Accuracy: 89.43\n",
            "Iteration: 21000. Loss: 0.1729382872581482. Accuracy: 89.58\n",
            "Iteration: 21500. Loss: 0.10421179234981537. Accuracy: 89.45\n",
            "Iteration: 22000. Loss: 0.11274240911006927. Accuracy: 89.44\n",
            "Iteration: 22500. Loss: 0.09235932677984238. Accuracy: 89.2\n",
            "Iteration: 23000. Loss: 0.08928076922893524. Accuracy: 89.38\n",
            "Iteration: 23500. Loss: 0.13837268948554993. Accuracy: 89.3\n",
            "Iteration: 24000. Loss: 0.07625724375247955. Accuracy: 89.45\n",
            "Iteration: 24500. Loss: 0.07321516424417496. Accuracy: 89.47\n",
            "Iteration: 25000. Loss: 0.09735442698001862. Accuracy: 89.49\n",
            "Iteration: 25500. Loss: 0.027284543961286545. Accuracy: 89.55\n",
            "Iteration: 26000. Loss: 0.041171927005052567. Accuracy: 89.21\n",
            "Iteration: 26500. Loss: 0.055911462754011154. Accuracy: 89.45\n",
            "Iteration: 27000. Loss: 0.056009672582149506. Accuracy: 88.99\n",
            "Iteration: 27500. Loss: 0.05136984959244728. Accuracy: 89.34\n",
            "Iteration: 28000. Loss: 0.06370176374912262. Accuracy: 89.0\n",
            "Iteration: 28500. Loss: 0.05208291858434677. Accuracy: 89.47\n",
            "Iteration: 29000. Loss: 0.06231873854994774. Accuracy: 89.48\n",
            "Iteration: 29500. Loss: 0.047173742204904556. Accuracy: 89.97\n",
            "Iteration: 30000. Loss: 0.050808507949113846. Accuracy: 89.46\n",
            "Iteration: 30500. Loss: 0.04573877155780792. Accuracy: 89.48\n",
            "Iteration: 31000. Loss: 0.0266022440046072. Accuracy: 89.63\n",
            "Iteration: 31500. Loss: 0.06971118599176407. Accuracy: 89.35\n",
            "Iteration: 32000. Loss: 0.1212557926774025. Accuracy: 89.7\n",
            "Iteration: 32500. Loss: 0.020336199551820755. Accuracy: 89.77\n",
            "Iteration: 33000. Loss: 0.020121119916439056. Accuracy: 89.56\n",
            "Iteration: 33500. Loss: 0.028473857790231705. Accuracy: 89.9\n",
            "Iteration: 34000. Loss: 0.02589060179889202. Accuracy: 89.46\n",
            "Iteration: 34500. Loss: 0.043377578258514404. Accuracy: 89.43\n",
            "Iteration: 35000. Loss: 0.05314495787024498. Accuracy: 89.57\n",
            "Iteration: 35500. Loss: 0.04296829178929329. Accuracy: 89.35\n",
            "Iteration: 36000. Loss: 0.031364258378744125. Accuracy: 89.69\n",
            "Iteration: 36500. Loss: 0.019048625603318214. Accuracy: 89.37\n",
            "Iteration: 37000. Loss: 0.05598330870270729. Accuracy: 89.26\n",
            "Iteration: 37500. Loss: 0.009873687289655209. Accuracy: 89.76\n",
            "Iteration: 38000. Loss: 0.012559955008327961. Accuracy: 89.68\n",
            "Iteration: 38500. Loss: 0.012310510501265526. Accuracy: 89.95\n",
            "Iteration: 39000. Loss: 0.015748079866170883. Accuracy: 89.54\n",
            "Iteration: 39500. Loss: 0.013862069696187973. Accuracy: 89.83\n",
            "Iteration: 40000. Loss: 0.026347404345870018. Accuracy: 89.71\n",
            "Iteration: 40500. Loss: 0.011380890384316444. Accuracy: 89.67\n",
            "Iteration: 41000. Loss: 0.01211961917579174. Accuracy: 89.69\n",
            "Iteration: 41500. Loss: 0.010526210069656372. Accuracy: 89.84\n",
            "Iteration: 42000. Loss: 0.010437333025038242. Accuracy: 90.0\n",
            "Iteration: 42500. Loss: 0.00769874406978488. Accuracy: 89.99\n",
            "Iteration: 43000. Loss: 0.011154391802847385. Accuracy: 90.33\n",
            "Iteration: 43500. Loss: 0.006384789012372494. Accuracy: 90.05\n",
            "Iteration: 44000. Loss: 0.018425295129418373. Accuracy: 89.73\n",
            "Iteration: 44500. Loss: 0.016607509925961494. Accuracy: 89.84\n",
            "Iteration: 45000. Loss: 0.2810552418231964. Accuracy: 86.19\n",
            "Iteration: 45500. Loss: 0.02208358608186245. Accuracy: 89.4\n",
            "Iteration: 46000. Loss: 0.01589571312069893. Accuracy: 89.19\n",
            "Iteration: 46500. Loss: 0.014965291135013103. Accuracy: 90.04\n",
            "Iteration: 47000. Loss: 0.0008706518565304577. Accuracy: 89.5\n",
            "Iteration: 47500. Loss: 0.009764023125171661. Accuracy: 89.9\n",
            "Iteration: 48000. Loss: 0.003618623362854123. Accuracy: 89.76\n",
            "Iteration: 48500. Loss: 0.004701759200543165. Accuracy: 90.05\n",
            "Iteration: 49000. Loss: 0.055533766746520996. Accuracy: 89.08\n",
            "Iteration: 49500. Loss: 0.0017744902288541198. Accuracy: 90.0\n",
            "Iteration: 50000. Loss: 0.0026049271691590548. Accuracy: 89.87\n",
            "Iteration: 50500. Loss: 0.000789187615737319. Accuracy: 90.1\n",
            "Iteration: 51000. Loss: 0.002069608774036169. Accuracy: 90.16\n",
            "Iteration: 51500. Loss: 0.0022534902673214674. Accuracy: 90.07\n",
            "Iteration: 52000. Loss: 0.0007498984923586249. Accuracy: 90.12\n",
            "Iteration: 52500. Loss: 0.000656582647934556. Accuracy: 90.11\n",
            "Iteration: 53000. Loss: 0.0028366600163280964. Accuracy: 90.08\n",
            "Iteration: 53500. Loss: 0.0003930856182705611. Accuracy: 90.06\n",
            "Iteration: 54000. Loss: 0.00021709231077693403. Accuracy: 90.09\n",
            "Iteration: 54500. Loss: 0.0010224116267636418. Accuracy: 90.04\n",
            "Iteration: 55000. Loss: 0.000736500252969563. Accuracy: 90.15\n",
            "Iteration: 55500. Loss: 0.00030591414542868733. Accuracy: 90.07\n",
            "Iteration: 56000. Loss: 0.0009747190051712096. Accuracy: 90.0\n",
            "Iteration: 56500. Loss: 0.0010306845651939511. Accuracy: 90.05\n",
            "Iteration: 57000. Loss: 0.00024980088346637785. Accuracy: 90.02\n",
            "Iteration: 57500. Loss: 0.0014514662325382233. Accuracy: 89.99\n",
            "Iteration: 58000. Loss: 0.00013441251940093935. Accuracy: 90.0\n",
            "Iteration: 58500. Loss: 0.0009983754716813564. Accuracy: 90.06\n",
            "Iteration: 59000. Loss: 0.0003312521439511329. Accuracy: 90.01\n",
            "Iteration: 59500. Loss: 0.000402042584028095. Accuracy: 90.08\n",
            "Iteration: 60000. Loss: 0.00011604429892031476. Accuracy: 90.06\n",
            "Iteration: 60500. Loss: 0.00018251365690957755. Accuracy: 90.04\n",
            "Iteration: 61000. Loss: 0.00045893300557509065. Accuracy: 90.05\n",
            "Iteration: 61500. Loss: 0.0003615582827478647. Accuracy: 90.06\n",
            "Iteration: 62000. Loss: 0.0006695445626974106. Accuracy: 90.05\n",
            "Iteration: 62500. Loss: 0.00019181148672942072. Accuracy: 90.03\n",
            "Iteration: 63000. Loss: 0.0002794069005176425. Accuracy: 89.96\n",
            "Iteration: 63500. Loss: 0.00028448403463698924. Accuracy: 89.99\n",
            "Iteration: 64000. Loss: 0.0002801318187266588. Accuracy: 90.07\n",
            "Iteration: 64500. Loss: 0.0002183870383305475. Accuracy: 90.1\n",
            "Iteration: 65000. Loss: 0.00037248205626383424. Accuracy: 90.15\n",
            "Iteration: 65500. Loss: 0.00034873606637120247. Accuracy: 90.07\n",
            "Iteration: 66000. Loss: 0.00013785314513370395. Accuracy: 90.07\n",
            "Iteration: 66500. Loss: 0.00019481622439343482. Accuracy: 90.05\n",
            "Iteration: 67000. Loss: 8.734614675631747e-05. Accuracy: 90.05\n",
            "Iteration: 67500. Loss: 0.00019108039850834757. Accuracy: 90.07\n",
            "Iteration: 68000. Loss: 0.0002858388761524111. Accuracy: 90.03\n",
            "Iteration: 68500. Loss: 6.569505057996139e-05. Accuracy: 90.05\n",
            "Iteration: 69000. Loss: 0.0004311914090067148. Accuracy: 90.04\n",
            "Iteration: 69500. Loss: 0.000301594496704638. Accuracy: 90.04\n",
            "Iteration: 70000. Loss: 0.00021108549844939262. Accuracy: 90.05\n",
            "Iteration: 70500. Loss: 0.0003690834855660796. Accuracy: 89.98\n",
            "Iteration: 71000. Loss: 0.00014000461669638753. Accuracy: 90.03\n",
            "Iteration: 71500. Loss: 0.00018620029732119292. Accuracy: 90.02\n",
            "Iteration: 72000. Loss: 0.0001341121387667954. Accuracy: 90.06\n",
            "Iteration: 72500. Loss: 0.0002563412126619369. Accuracy: 90.1\n",
            "Iteration: 73000. Loss: 0.00016253920330200344. Accuracy: 90.05\n",
            "Iteration: 73500. Loss: 0.0001536368072265759. Accuracy: 90.11\n",
            "Iteration: 74000. Loss: 0.00022405221534427255. Accuracy: 90.05\n",
            "Iteration: 74500. Loss: 0.0001952566090039909. Accuracy: 90.15\n",
            "Iteration: 75000. Loss: 0.00019970606081187725. Accuracy: 90.03\n",
            "Iteration: 75500. Loss: 0.00016038610192481428. Accuracy: 90.09\n",
            "Iteration: 76000. Loss: 5.481584230437875e-05. Accuracy: 90.1\n",
            "Iteration: 76500. Loss: 0.00012557656737044454. Accuracy: 90.1\n",
            "Iteration: 77000. Loss: 0.00018848424952011555. Accuracy: 90.1\n",
            "Iteration: 77500. Loss: 0.00016332374070771039. Accuracy: 90.09\n",
            "Iteration: 78000. Loss: 0.0003930761304218322. Accuracy: 90.05\n",
            "Iteration: 78500. Loss: 9.641323413234204e-05. Accuracy: 90.11\n",
            "Iteration: 79000. Loss: 0.0001785762287909165. Accuracy: 90.12\n",
            "Iteration: 79500. Loss: 9.053404210135341e-05. Accuracy: 90.11\n"
          ],
          "name": "stdout"
        }
      ]
    },
    {
      "cell_type": "code",
      "metadata": {
        "colab": {
          "base_uri": "https://localhost:8080/",
          "height": 316
        },
        "id": "sRwHUTSiRARF",
        "outputId": "da389790-d671-43b1-e626-1ee5f64689a0"
      },
      "source": [
        "import matplotlib\n",
        "import matplotlib.pyplot as plt\n",
        "\n",
        "print (iteration_loss)\n",
        "plt.plot(iteration_loss)\n",
        "plt.ylabel('Loss')\n",
        "plt.xlabel('Iteration (in every 500)')\n",
        "plt.show()"
      ],
      "execution_count": null,
      "outputs": [
        {
          "output_type": "stream",
          "text": [
            "[0.4738587439060211, 0.47023510932922363, 0.3189685642719269, 0.27260932326316833, 0.3673635423183441, 0.32289934158325195, 0.2411613166332245, 0.21831916272640228, 0.27037084102630615, 0.20464591681957245, 0.22762355208396912, 0.3160369396209717, 0.19084575772285461, 0.27513548731803894, 0.2468205690383911, 0.25499898195266724, 0.15696905553340912, 0.21567602455615997, 0.18217238783836365, 0.28525471687316895, 0.26999881863594055, 0.15512976050376892, 0.18894942104816437, 0.12030066549777985, 0.15930095314979553, 0.12433452904224396, 0.1438577026128769, 0.14395157992839813, 0.13300523161888123, 0.09983689337968826, 0.06287188827991486, 0.08262217044830322, 0.11179260164499283, 0.0754476860165596, 0.056864652782678604, 0.07365954667329788, 0.09390006959438324, 0.12591631710529327, 0.14185398817062378, 0.11033657193183899, 0.10613397508859634, 0.1729382872581482, 0.10421179234981537, 0.11274240911006927, 0.09235932677984238, 0.08928076922893524, 0.13837268948554993, 0.07625724375247955, 0.07321516424417496, 0.09735442698001862, 0.027284543961286545, 0.041171927005052567, 0.055911462754011154, 0.056009672582149506, 0.05136984959244728, 0.06370176374912262, 0.05208291858434677, 0.06231873854994774, 0.047173742204904556, 0.050808507949113846, 0.04573877155780792, 0.0266022440046072, 0.06971118599176407, 0.1212557926774025, 0.020336199551820755, 0.020121119916439056, 0.028473857790231705, 0.02589060179889202, 0.043377578258514404, 0.05314495787024498, 0.04296829178929329, 0.031364258378744125, 0.019048625603318214, 0.05598330870270729, 0.009873687289655209, 0.012559955008327961, 0.012310510501265526, 0.015748079866170883, 0.013862069696187973, 0.026347404345870018, 0.011380890384316444, 0.01211961917579174, 0.010526210069656372, 0.010437333025038242, 0.00769874406978488, 0.011154391802847385, 0.006384789012372494, 0.018425295129418373, 0.016607509925961494, 0.2810552418231964, 0.02208358608186245, 0.01589571312069893, 0.014965291135013103, 0.0008706518565304577, 0.009764023125171661, 0.003618623362854123, 0.004701759200543165, 0.055533766746520996, 0.0017744902288541198, 0.0026049271691590548, 0.000789187615737319, 0.002069608774036169, 0.0022534902673214674, 0.0007498984923586249, 0.000656582647934556, 0.0028366600163280964, 0.0003930856182705611, 0.00021709231077693403, 0.0010224116267636418, 0.000736500252969563, 0.00030591414542868733, 0.0009747190051712096, 0.0010306845651939511, 0.00024980088346637785, 0.0014514662325382233, 0.00013441251940093935, 0.0009983754716813564, 0.0003312521439511329, 0.000402042584028095, 0.00011604429892031476, 0.00018251365690957755, 0.00045893300557509065, 0.0003615582827478647, 0.0006695445626974106, 0.00019181148672942072, 0.0002794069005176425, 0.00028448403463698924, 0.0002801318187266588, 0.0002183870383305475, 0.00037248205626383424, 0.00034873606637120247, 0.00013785314513370395, 0.00019481622439343482, 8.734614675631747e-05, 0.00019108039850834757, 0.0002858388761524111, 6.569505057996139e-05, 0.0004311914090067148, 0.000301594496704638, 0.00021108549844939262, 0.0003690834855660796, 0.00014000461669638753, 0.00018620029732119292, 0.0001341121387667954, 0.0002563412126619369, 0.00016253920330200344, 0.0001536368072265759, 0.00022405221534427255, 0.0001952566090039909, 0.00019970606081187725, 0.00016038610192481428, 5.481584230437875e-05, 0.00012557656737044454, 0.00018848424952011555, 0.00016332374070771039, 0.0003930761304218322, 9.641323413234204e-05, 0.0001785762287909165, 9.053404210135341e-05]\n"
          ],
          "name": "stdout"
        },
        {
          "output_type": "display_data",
          "data": {
            "image/png": "[encoded data removed]",
            "text/plain": [
              "<Figure size 432x288 with 1 Axes>"
            ]
          },
          "metadata": {
            "needs_background": "light"
          }
        }
      ]
    },
    {
      "cell_type": "code",
      "metadata": {
        "id": "kqCMk8MjVOGR"
      },
      "source": [
        "save_model = True\n",
        "root_path= '/content/drive/MyDrive/Colab Notebooks'\n",
        "if save_model is True:\n",
        "    # Saves only parameters\n",
        "    # weights & biases\n",
        "    torch.save(model.state_dict(), 'exp3_2.pkl') "
      ],
      "execution_count": null,
      "outputs": []
    },
    {
      "cell_type": "code",
      "metadata": {
        "colab": {
          "base_uri": "https://localhost:8080/"
        },
        "id": "P_hje6F_VU_Z",
        "outputId": "04d14d57-51ff-4d28-ab91-5986167ad5f4"
      },
      "source": [
        "# Load Model\n",
        "load_model = True\n",
        "\n",
        "if load_model is True:\n",
        "    model.load_state_dict(torch.load('exp3_2.pkl'))\n",
        "    print('Trained Model Loaded')"
      ],
      "execution_count": null,
      "outputs": [
        {
          "output_type": "stream",
          "text": [
            "Trained Model Loaded\n"
          ],
          "name": "stdout"
        }
      ]
    },
    {
      "cell_type": "code",
      "metadata": {
        "id": "nPuF3fuNVaRQ"
      },
      "source": [
        ""
      ],
      "execution_count": null,
      "outputs": []
    }
  ]
}