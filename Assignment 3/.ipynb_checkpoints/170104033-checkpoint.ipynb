{
 "cells": [
  {
   "cell_type": "code",
   "execution_count": 1,
   "metadata": {
    "colab": {
     "base_uri": "https://localhost:8080/"
    },
    "id": "bwCxMuy68bYH",
    "outputId": "e9c7c60c-b046-41cd-e788-613b825f4fbd"
   },
   "outputs": [
    {
     "name": "stdout",
     "output_type": "stream",
     "text": [
      "Drive already mounted at /content/drive/; to attempt to forcibly remount, call drive.mount(\"/content/drive/\", force_remount=True).\n"
     ]
    }
   ],
   "source": [
    "from google.colab import drive\n",
    "drive.mount('/content/drive/')"
   ]
  },
  {
   "cell_type": "code",
   "execution_count": 2,
   "metadata": {},
   "outputs": [
    {
     "name": "stdout",
     "output_type": "stream",
     "text": [
      "Collecting keras\n",
      "  Downloading keras-2.6.0-py2.py3-none-any.whl (1.3 MB)\n",
      "Installing collected packages: keras\n",
      "Successfully installed keras-2.6.0\n",
      "Note: you may need to restart the kernel to use updated packages.\n"
     ]
    }
   ],
   "source": [
    "pip install keras"
   ]
  },
  {
   "cell_type": "code",
   "execution_count": 1,
   "metadata": {
    "id": "LLJ90lne8i60"
   },
   "outputs": [
    {
     "ename": "ModuleNotFoundError",
     "evalue": "No module named 'keras'",
     "output_type": "error",
     "traceback": [
      "\u001b[1;31m---------------------------------------------------------------------------\u001b[0m",
      "\u001b[1;31mModuleNotFoundError\u001b[0m                       Traceback (most recent call last)",
      "\u001b[1;32m<ipython-input-1-5803a274f290>\u001b[0m in \u001b[0;36m<module>\u001b[1;34m\u001b[0m\n\u001b[0;32m      1\u001b[0m \u001b[1;32mimport\u001b[0m \u001b[0mpandas\u001b[0m \u001b[1;32mas\u001b[0m \u001b[0mpd\u001b[0m\u001b[1;33m\u001b[0m\u001b[1;33m\u001b[0m\u001b[0m\n\u001b[1;32m----> 2\u001b[1;33m \u001b[1;32mfrom\u001b[0m \u001b[0mkeras\u001b[0m\u001b[1;33m.\u001b[0m\u001b[0mpreprocessing\u001b[0m\u001b[1;33m.\u001b[0m\u001b[0mtext\u001b[0m \u001b[1;32mimport\u001b[0m \u001b[0mTokenizer\u001b[0m\u001b[1;33m\u001b[0m\u001b[1;33m\u001b[0m\u001b[0m\n\u001b[0m\u001b[0;32m      3\u001b[0m \u001b[1;32mfrom\u001b[0m \u001b[0mkeras\u001b[0m\u001b[1;33m.\u001b[0m\u001b[0mpreprocessing\u001b[0m\u001b[1;33m.\u001b[0m\u001b[0msequence\u001b[0m \u001b[1;32mimport\u001b[0m \u001b[0mpad_sequences\u001b[0m\u001b[1;33m\u001b[0m\u001b[1;33m\u001b[0m\u001b[0m\n\u001b[0;32m      4\u001b[0m \u001b[1;32mfrom\u001b[0m \u001b[0mkeras\u001b[0m\u001b[1;33m.\u001b[0m\u001b[0mmodels\u001b[0m \u001b[1;32mimport\u001b[0m \u001b[0mSequential\u001b[0m\u001b[1;33m\u001b[0m\u001b[1;33m\u001b[0m\u001b[0m\n\u001b[0;32m      5\u001b[0m \u001b[1;32mfrom\u001b[0m \u001b[0mkeras\u001b[0m\u001b[1;33m.\u001b[0m\u001b[0mlayers\u001b[0m \u001b[1;32mimport\u001b[0m \u001b[0mDense\u001b[0m\u001b[1;33m,\u001b[0m \u001b[0mEmbedding\u001b[0m\u001b[1;33m,\u001b[0m \u001b[0mSpatialDropout1D\u001b[0m\u001b[1;33m,\u001b[0m \u001b[0mSimpleRNN\u001b[0m\u001b[1;33m\u001b[0m\u001b[1;33m\u001b[0m\u001b[0m\n",
      "\u001b[1;31mModuleNotFoundError\u001b[0m: No module named 'keras'"
     ]
    }
   ],
   "source": [
    "import pandas as pd\n",
    "from keras.preprocessing.text import Tokenizer\n",
    "from keras.preprocessing.sequence import pad_sequences\n",
    "from keras.models import Sequential\n",
    "from keras.layers import Dense, Embedding, SpatialDropout1D, SimpleRNN\n",
    "from sklearn.model_selection import train_test_split\n",
    "from keras.utils.np_utils import to_categorical\n",
    "from keras.callbacks import EarlyStopping\n",
    "from keras.layers import Dropout\n",
    "from sklearn.metrics import classification_report, confusion_matrix\n",
    "from sklearn.metrics import accuracy_score, precision_score, recall_score, f1_score\n",
    "from sklearn.model_selection import train_test_split\n",
    "import numpy as np\n",
    "import math\n",
    "import re\n",
    "import matplotlib as mpl\n",
    "import matplotlib.pyplot as plt\n",
    "import seaborn as sb\n",
    "import random"
   ]
  },
  {
   "cell_type": "code",
   "execution_count": 3,
   "metadata": {
    "id": "y1tOM-0H9Wf6"
   },
   "outputs": [],
   "source": [
    "df= pd.read_csv('/content/drive/MyDrive/Colab Notebooks/Soft Computing/Assignment 3/Dataset 1.csv', engine = 'python')\n",
    "df= df.sample(frac=1).reset_index(drop= True) "
   ]
  },
  {
   "cell_type": "markdown",
   "metadata": {
    "id": "puiggRS3C1n5"
   },
   "source": [
    "# Data Preprocessing"
   ]
  },
  {
   "cell_type": "code",
   "execution_count": 4,
   "metadata": {
    "id": "b77FqBwU4UQV"
   },
   "outputs": [],
   "source": [
    "# removing mentions, links, tags\n",
    "\n",
    "def removing_mentions(text):\n",
    "    text = re.sub(r'@[A-Za-z0-9]+', '', text)     # removing @mentions\n",
    "    text = re.sub(r'@[A-Za-zA-Z0-9]+', '', text)  # removing @mentions \n",
    "    text = re.sub(r'@[A-Za-z]+', '', text)        # removing @mentions\n",
    "    text = re.sub(r'@[-)]+', '', text)            # removing @mentions\n",
    "\n",
    "    return text\n",
    "\n",
    "def removeing_links(text):\n",
    "    text = re.sub(r'https?\\/\\/\\S+', '', text)     # removing the hyper link\n",
    "    text = re.sub(r'http?\\/\\/\\S+', '', text)     # removing the hyper link\n",
    "    \n",
    "    return text\n",
    "\n",
    "def removing_tags(text):\n",
    "    text = re.sub(r'#', '', text )              # removing '#' sign\n",
    "    text = re.sub(r'RT[\\s]+', '', text)         # removing RT\n",
    "    text = re.sub(r'&[a-z;]+', '', text)        # removing '&gt;'\n",
    "    \n",
    "    return text"
   ]
  },
  {
   "cell_type": "code",
   "execution_count": 5,
   "metadata": {
    "colab": {
     "base_uri": "https://localhost:8080/"
    },
    "id": "ZwopXx2FDHLs",
    "outputId": "8ebdfdc3-22a4-4e5d-a9b8-c3f3a9884431"
   },
   "outputs": [
    {
     "name": "stdout",
     "output_type": "stream",
     "text": [
      "[nltk_data] Downloading package stopwords to /root/nltk_data...\n",
      "[nltk_data]   Package stopwords is already up-to-date!\n",
      "[nltk_data] Downloading package punkt to /root/nltk_data...\n",
      "[nltk_data]   Package punkt is already up-to-date!\n"
     ]
    }
   ],
   "source": [
    "# removing stopwords, punctuations\n",
    "\n",
    "import nltk\n",
    "import string\n",
    "nltk.download('stopwords')\n",
    "nltk.download('punkt')\n",
    "from nltk.corpus import stopwords \n",
    "from nltk.tokenize import word_tokenize \n",
    "\n",
    "\n",
    "def remove_stopwords(text):\n",
    "  stop_words = set(stopwords.words('english'))  \n",
    "  words = word_tokenize(text)\n",
    "    #words = tokenizer.tokenize(text)\n",
    "  filtered_words = [w for w in words if not w in stop_words]\n",
    "\n",
    "  str = \" \"\n",
    "  return str.join(filtered_words)\n",
    "\n",
    "\n",
    "def remove_punctuations(text):\n",
    "    words = word_tokenize(text)\n",
    "    \n",
    "    filtered_words = [w for w in words if not w in string.punctuation]\n",
    "    \n",
    "    str = \" \"\n",
    "    return str.join(filtered_words)"
   ]
  },
  {
   "cell_type": "code",
   "execution_count": 41,
   "metadata": {
    "id": "ZDBquDghKiFX"
   },
   "outputs": [],
   "source": []
  },
  {
   "cell_type": "code",
   "execution_count": 6,
   "metadata": {
    "colab": {
     "base_uri": "https://localhost:8080/",
     "height": 203
    },
    "id": "q_Mm7ZA4DCwf",
    "outputId": "b0c2ff92-9c7f-4172-dae2-607e2d380345"
   },
   "outputs": [
    {
     "data": {
      "text/html": [
       "<div>\n",
       "<style scoped>\n",
       "    .dataframe tbody tr th:only-of-type {\n",
       "        vertical-align: middle;\n",
       "    }\n",
       "\n",
       "    .dataframe tbody tr th {\n",
       "        vertical-align: top;\n",
       "    }\n",
       "\n",
       "    .dataframe thead th {\n",
       "        text-align: right;\n",
       "    }\n",
       "</style>\n",
       "<table border=\"1\" class=\"dataframe\">\n",
       "  <thead>\n",
       "    <tr style=\"text-align: right;\">\n",
       "      <th></th>\n",
       "      <th>message</th>\n",
       "      <th>label</th>\n",
       "    </tr>\n",
       "  </thead>\n",
       "  <tbody>\n",
       "    <tr>\n",
       "      <th>0</th>\n",
       "      <td>Depression and anxietyThem shits are bitches</td>\n",
       "      <td>1</td>\n",
       "    </tr>\n",
       "    <tr>\n",
       "      <th>1</th>\n",
       "      <td>@worodal7ob ???? ????? ???</td>\n",
       "      <td>0</td>\n",
       "    </tr>\n",
       "    <tr>\n",
       "      <th>2</th>\n",
       "      <td>@pokerfacexxx i hate death metal</td>\n",
       "      <td>0</td>\n",
       "    </tr>\n",
       "    <tr>\n",
       "      <th>3</th>\n",
       "      <td>Happy 5 months babe!(: I love you so much and ...</td>\n",
       "      <td>0</td>\n",
       "    </tr>\n",
       "    <tr>\n",
       "      <th>4</th>\n",
       "      <td>is gonna hang out with my two favorite people ...</td>\n",
       "      <td>0</td>\n",
       "    </tr>\n",
       "  </tbody>\n",
       "</table>\n",
       "</div>"
      ],
      "text/plain": [
       "                                             message  label\n",
       "0       Depression and anxietyThem shits are bitches      1\n",
       "1                        @worodal7ob ???? ????? ???       0\n",
       "2                  @pokerfacexxx i hate death metal       0\n",
       "3  Happy 5 months babe!(: I love you so much and ...      0\n",
       "4  is gonna hang out with my two favorite people ...      0"
      ]
     },
     "execution_count": 6,
     "metadata": {},
     "output_type": "execute_result"
    }
   ],
   "source": [
    "# Before preprocessing\n",
    "df[['message', 'label']].iloc[range(5)]"
   ]
  },
  {
   "cell_type": "code",
   "execution_count": 7,
   "metadata": {
    "id": "n-RvkzibDRnr"
   },
   "outputs": [],
   "source": [
    "# Applying preprocessing\n",
    "\n",
    "df['message'] = df['message'].apply(removing_mentions)\n",
    "df['message'] = df['message'].apply(removeing_links)\n",
    "df['message'] = df['message'].apply(removing_tags)\n",
    "df['message'] = df['message'].apply(remove_stopwords)\n",
    "df['message'] = df['message'].apply(remove_punctuations)\n"
   ]
  },
  {
   "cell_type": "code",
   "execution_count": 8,
   "metadata": {
    "colab": {
     "base_uri": "https://localhost:8080/",
     "height": 203
    },
    "id": "STH8XbPwDa5T",
    "outputId": "805432cb-2185-436b-a92f-0b2bcd1b89b5"
   },
   "outputs": [
    {
     "data": {
      "text/html": [
       "<div>\n",
       "<style scoped>\n",
       "    .dataframe tbody tr th:only-of-type {\n",
       "        vertical-align: middle;\n",
       "    }\n",
       "\n",
       "    .dataframe tbody tr th {\n",
       "        vertical-align: top;\n",
       "    }\n",
       "\n",
       "    .dataframe thead th {\n",
       "        text-align: right;\n",
       "    }\n",
       "</style>\n",
       "<table border=\"1\" class=\"dataframe\">\n",
       "  <thead>\n",
       "    <tr style=\"text-align: right;\">\n",
       "      <th></th>\n",
       "      <th>message</th>\n",
       "      <th>label</th>\n",
       "    </tr>\n",
       "  </thead>\n",
       "  <tbody>\n",
       "    <tr>\n",
       "      <th>0</th>\n",
       "      <td>Depression anxietyThem shits bitches</td>\n",
       "      <td>1</td>\n",
       "    </tr>\n",
       "    <tr>\n",
       "      <th>1</th>\n",
       "      <td></td>\n",
       "      <td>0</td>\n",
       "    </tr>\n",
       "    <tr>\n",
       "      <th>2</th>\n",
       "      <td>hate death metal</td>\n",
       "      <td>0</td>\n",
       "    </tr>\n",
       "    <tr>\n",
       "      <th>3</th>\n",
       "      <td>Happy 5 months babe I love much make HAPPIEST ...</td>\n",
       "      <td>0</td>\n",
       "    </tr>\n",
       "    <tr>\n",
       "      <th>4</th>\n",
       "      <td>gon na hang two favorite people http //plurk.c...</td>\n",
       "      <td>0</td>\n",
       "    </tr>\n",
       "  </tbody>\n",
       "</table>\n",
       "</div>"
      ],
      "text/plain": [
       "                                             message  label\n",
       "0               Depression anxietyThem shits bitches      1\n",
       "1                                                         0\n",
       "2                                   hate death metal      0\n",
       "3  Happy 5 months babe I love much make HAPPIEST ...      0\n",
       "4  gon na hang two favorite people http //plurk.c...      0"
      ]
     },
     "execution_count": 8,
     "metadata": {},
     "output_type": "execute_result"
    }
   ],
   "source": [
    "# After preprocessing\n",
    "df[['message', 'label']].iloc[range(5)]"
   ]
  },
  {
   "cell_type": "code",
   "execution_count": 9,
   "metadata": {
    "colab": {
     "base_uri": "https://localhost:8080/"
    },
    "id": "clnQO8BiDeEF",
    "outputId": "8d84f67a-9075-43b2-fe13-80595f93ac94"
   },
   "outputs": [
    {
     "name": "stdout",
     "output_type": "stream",
     "text": [
      "0    8000\n",
      "1    2314\n",
      "Name: label, dtype: int64\n"
     ]
    }
   ],
   "source": [
    "print(df['label'].value_counts(0))\n"
   ]
  },
  {
   "cell_type": "markdown",
   "metadata": {
    "id": "KYwGunOHdn-V"
   },
   "source": [
    "# Word Embedding"
   ]
  },
  {
   "cell_type": "code",
   "execution_count": 15,
   "metadata": {
    "colab": {
     "base_uri": "https://localhost:8080/"
    },
    "id": "PBkYxvESXquV",
    "outputId": "7b359d03-ec07-4902-dcdd-8ea3ab4a4399"
   },
   "outputs": [
    {
     "name": "stdout",
     "output_type": "stream",
     "text": [
      "Found 17840 unique tokens.\n",
      "Shape of data tensor: (8251, 250)\n"
     ]
    }
   ],
   "source": [
    "dataset = df\n",
    "unique_label = np.unique(df[\"label\"])\n",
    "num_classes = len(unique_label)\n",
    "\n",
    "from sklearn.model_selection import train_test_split\n",
    "X_train, X_test, y_train, y_test = train_test_split(dataset['message'].values, pd.get_dummies(dataset['label']).values, test_size=0.20)\n",
    "\n",
    "MAX_NB_WORDS = 20000\n",
    "MAX_SEQUENCE_LENGTH = 250\n",
    "EMBEDDING_DIM = 100\n",
    "\n",
    "tokenizer = Tokenizer(num_words=MAX_NB_WORDS)\n",
    "tokenizer.fit_on_texts(X_train)\n",
    "tokenizer.fit_on_texts(X_test)\n",
    "word_index = tokenizer.word_index\n",
    "print('Found %s unique tokens.' % len(word_index))\n",
    "# print(word_index)\n",
    "\n",
    "\n",
    "train_seq = tokenizer.texts_to_sequences(X_train)\n",
    "test_seq = tokenizer.texts_to_sequences(X_test)\n",
    "pad_train = pad_sequences(train_seq, maxlen=MAX_SEQUENCE_LENGTH)\n",
    "pad_test = pad_sequences(test_seq, maxlen=MAX_SEQUENCE_LENGTH)\n",
    "print('Shape of data tensor:', pad_train.shape)"
   ]
  },
  {
   "cell_type": "markdown",
   "metadata": {
    "id": "mqV4xb9xd0jQ"
   },
   "source": [
    "# Bidirectional RNN"
   ]
  },
  {
   "cell_type": "code",
   "execution_count": 16,
   "metadata": {
    "colab": {
     "base_uri": "https://localhost:8080/"
    },
    "id": "qU-BTHnZciNO",
    "outputId": "be8bb1ef-0e28-494f-b8d1-578cdd58beed"
   },
   "outputs": [
    {
     "name": "stdout",
     "output_type": "stream",
     "text": [
      "Model: \"sequential_2\"\n",
      "_________________________________________________________________\n",
      "Layer (type)                 Output Shape              Param #   \n",
      "=================================================================\n",
      "embedding_2 (Embedding)      (None, 250, 100)          2000000   \n",
      "_________________________________________________________________\n",
      "bidirectional_8 (Bidirection (None, 250, 200)          40200     \n",
      "_________________________________________________________________\n",
      "bidirectional_9 (Bidirection (None, 250, 200)          60200     \n",
      "_________________________________________________________________\n",
      "bidirectional_10 (Bidirectio (None, 250, 200)          60200     \n",
      "_________________________________________________________________\n",
      "bidirectional_11 (Bidirectio (None, 200)               60200     \n",
      "_________________________________________________________________\n",
      "dense_2 (Dense)              (None, 2)                 402       \n",
      "=================================================================\n",
      "Total params: 2,221,202\n",
      "Trainable params: 2,221,202\n",
      "Non-trainable params: 0\n",
      "_________________________________________________________________\n"
     ]
    }
   ],
   "source": [
    "from keras import layers\n",
    "model = Sequential()\n",
    "model.add(layers.Embedding(MAX_NB_WORDS, EMBEDDING_DIM, input_length=pad_train.shape[1]))\n",
    "#model.add(layers.Bidirectional(layers.SimpleRNN(10, return_sequences=True), input_shape=(5, 10)))\n",
    "model.add(layers.Bidirectional(layers.SimpleRNN(100, activation= 'relu', return_sequences = True, dropout = 0.5)))\n",
    "model.add(layers.Bidirectional(layers.SimpleRNN(100, activation= 'relu', return_sequences=True, dropout = 0.5)))\n",
    "model.add(layers.Bidirectional(layers.SimpleRNN(100, activation= 'relu', return_sequences=True, dropout = 0.5)))\n",
    "model.add(layers.Bidirectional(layers.SimpleRNN(100, activation= 'relu', dropout = 0.5)))\n",
    "model.add(layers.Dense(2, activation = 'sigmoid'))\n",
    "model.compile(loss='binary_crossentropy', optimizer='adam', metrics=['accuracy'])\n",
    "\n",
    "epochs = 10\n",
    "batch_size = 128\n",
    "model.summary()\n"
   ]
  },
  {
   "cell_type": "code",
   "execution_count": 17,
   "metadata": {
    "colab": {
     "base_uri": "https://localhost:8080/"
    },
    "id": "J7l05Xn0fiv6",
    "outputId": "d27c5073-74dd-4cf1-8ae6-4400e15ff190"
   },
   "outputs": [
    {
     "name": "stdout",
     "output_type": "stream",
     "text": [
      "Epoch 1/10\n",
      "207/207 [==============================] - 611s 3s/step - loss: 4424.5435 - accuracy: 0.9088 - val_loss: 0.0180 - val_accuracy: 0.9958\n",
      "Epoch 2/10\n",
      "207/207 [==============================] - 585s 3s/step - loss: 0.0164 - accuracy: 0.9961 - val_loss: 0.0200 - val_accuracy: 0.9958\n",
      "Epoch 3/10\n",
      "207/207 [==============================] - 583s 3s/step - loss: 0.0068 - accuracy: 0.9988 - val_loss: 0.0207 - val_accuracy: 0.9964\n",
      "Epoch 4/10\n",
      "207/207 [==============================] - 584s 3s/step - loss: 0.0026 - accuracy: 0.9994 - val_loss: 0.0422 - val_accuracy: 0.9945\n",
      "Epoch 5/10\n",
      "207/207 [==============================] - 578s 3s/step - loss: 0.0151 - accuracy: 0.9982 - val_loss: 0.0490 - val_accuracy: 0.9952\n",
      "Epoch 6/10\n",
      "207/207 [==============================] - 577s 3s/step - loss: 0.0016 - accuracy: 0.9995 - val_loss: 0.0330 - val_accuracy: 0.9915\n",
      "Epoch 7/10\n",
      "207/207 [==============================] - 580s 3s/step - loss: 0.1091 - accuracy: 0.9964 - val_loss: 0.0233 - val_accuracy: 0.9964\n",
      "Epoch 8/10\n",
      "207/207 [==============================] - 579s 3s/step - loss: 0.0037 - accuracy: 0.9992 - val_loss: 0.0228 - val_accuracy: 0.9952\n",
      "Epoch 9/10\n",
      "207/207 [==============================] - 577s 3s/step - loss: 0.0012 - accuracy: 0.9995 - val_loss: 0.0258 - val_accuracy: 0.9952\n",
      "Epoch 10/10\n",
      "207/207 [==============================] - 580s 3s/step - loss: 0.0016 - accuracy: 0.9997 - val_loss: 0.0273 - val_accuracy: 0.9952\n"
     ]
    }
   ],
   "source": [
    "# history = model.fit(pad_train, y_train, epochs=epochs, batch_size=batch_size)\n",
    "history = model.fit(pad_train, y_train, epochs=epochs,validation_split=0.2)"
   ]
  },
  {
   "cell_type": "code",
   "execution_count": null,
   "metadata": {
    "id": "Lytyz44Ikz5-"
   },
   "outputs": [],
   "source": []
  }
 ],
 "metadata": {
  "accelerator": "GPU",
  "colab": {
   "collapsed_sections": [],
   "name": "Assign3.ipynb",
   "provenance": []
  },
  "kernelspec": {
   "display_name": "Python 3",
   "language": "python",
   "name": "python3"
  },
  "language_info": {
   "codemirror_mode": {
    "name": "ipython",
    "version": 3
   },
   "file_extension": ".py",
   "mimetype": "text/x-python",
   "name": "python",
   "nbconvert_exporter": "python",
   "pygments_lexer": "ipython3",
   "version": "3.8.8"
  }
 },
 "nbformat": 4,
 "nbformat_minor": 1
}
