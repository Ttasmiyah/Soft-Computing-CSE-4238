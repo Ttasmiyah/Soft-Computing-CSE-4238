{
  "nbformat": 4,
  "nbformat_minor": 0,
  "metadata": {
    "colab": {
      "name": "Assign3.ipynb",
      "provenance": [],
      "collapsed_sections": []
    },
    "kernelspec": {
      "name": "python3",
      "display_name": "Python 3"
    },
    "language_info": {
      "name": "python"
    },
    "accelerator": "GPU"
  },
  "cells": [
    {
      "cell_type": "code",
      "metadata": {
        "colab": {
          "base_uri": "https://localhost:8080/"
        },
        "id": "bwCxMuy68bYH",
        "outputId": "421970d0-203b-420b-ecf6-0231aa50c108"
      },
      "source": [
        "from google.colab import drive\n",
        "drive.mount('/content/drive/')"
      ],
      "execution_count": 54,
      "outputs": [
        {
          "output_type": "stream",
          "name": "stdout",
          "text": [
            "Drive already mounted at /content/drive/; to attempt to forcibly remount, call drive.mount(\"/content/drive/\", force_remount=True).\n"
          ]
        }
      ]
    },
    {
      "cell_type": "code",
      "metadata": {
        "id": "LLJ90lne8i60"
      },
      "source": [
        "import pandas as pd\n",
        "from keras.preprocessing.text import Tokenizer\n",
        "from keras.preprocessing.sequence import pad_sequences\n",
        "from keras.models import Sequential\n",
        "from keras.layers import Dense, Embedding, SpatialDropout1D, SimpleRNN\n",
        "from sklearn.model_selection import train_test_split\n",
        "from keras.utils.np_utils import to_categorical\n",
        "from keras.callbacks import EarlyStopping\n",
        "from keras.layers import Dropout\n",
        "from sklearn.metrics import classification_report, confusion_matrix\n",
        "from sklearn.metrics import accuracy_score, precision_score, recall_score, f1_score\n",
        "from sklearn.model_selection import train_test_split\n",
        "import numpy as np\n",
        "import math\n",
        "import re\n",
        "import matplotlib as mpl\n",
        "import matplotlib.pyplot as plt\n",
        "import seaborn as sb\n",
        "import random"
      ],
      "execution_count": 66,
      "outputs": []
    },
    {
      "cell_type": "code",
      "metadata": {
        "id": "y1tOM-0H9Wf6"
      },
      "source": [
        "df= pd.read_csv('/content/drive/MyDrive/Colab Notebooks/Soft Computing/Assignment 3/Dataset 1.csv', engine = 'python')\n",
        "df= df.sample(frac=1).reset_index(drop= True) "
      ],
      "execution_count": 56,
      "outputs": []
    },
    {
      "cell_type": "markdown",
      "metadata": {
        "id": "puiggRS3C1n5"
      },
      "source": [
        "# Data Preprocessing"
      ]
    },
    {
      "cell_type": "code",
      "metadata": {
        "id": "b77FqBwU4UQV"
      },
      "source": [
        "# removing mentions, links, tags\n",
        "\n",
        "def remove_mlt(text):\n",
        "    text = re.sub(r'@[A-Za-z0-9]+', '', text)     # removing @mentions\n",
        "    text = re.sub(r'@[A-Za-zA-Z0-9]+', '', text)  # removing @mentions \n",
        "    text = re.sub(r'@[A-Za-z]+', '', text)        # removing @mentions\n",
        "    text = re.sub(r'@[-)]+', '', text)            # removing @mentions\n",
        "\n",
        "    text = re.sub(r'https?\\/\\/\\S+', '', text)     # removing the hyper link\n",
        "    text = re.sub(r'http?\\/\\/\\S+', '', text)     # removing the hyper link\n",
        "    \n",
        "    text = re.sub(r'#', '', text )              # removing '#' sign\n",
        "    text = re.sub(r'RT[\\s]+', '', text)         # removing RT\n",
        "    text = re.sub(r'&[a-z;]+', '', text)        # removing '&gt;'\n",
        "    \n",
        "    return text"
      ],
      "execution_count": 57,
      "outputs": []
    },
    {
      "cell_type": "code",
      "metadata": {
        "colab": {
          "base_uri": "https://localhost:8080/"
        },
        "id": "ZwopXx2FDHLs",
        "outputId": "b47425c3-040d-4d73-b9d0-85330937497c"
      },
      "source": [
        "# removing stopwords, punctuations\n",
        "\n",
        "import nltk\n",
        "import string\n",
        "nltk.download('stopwords')\n",
        "nltk.download('punkt')\n",
        "from nltk.corpus import stopwords \n",
        "from nltk.tokenize import word_tokenize \n",
        "\n",
        "\n",
        "def remove_stopwords(text):\n",
        "  stop_words = set(stopwords.words('english'))  \n",
        "  words = word_tokenize(text)\n",
        "    #words = tokenizer.tokenize(text)\n",
        "  filtered_words = [w for w in words if not w in stop_words]\n",
        "\n",
        "  str = \" \"\n",
        "  return str.join(filtered_words)\n",
        "\n",
        "\n",
        "def remove_punctuations(text):\n",
        "    words = word_tokenize(text)\n",
        "    \n",
        "    filtered_words = [w for w in words if not w in string.punctuation]\n",
        "    \n",
        "    str = \" \"\n",
        "    return str.join(filtered_words)"
      ],
      "execution_count": 59,
      "outputs": [
        {
          "output_type": "stream",
          "name": "stdout",
          "text": [
            "[nltk_data] Downloading package stopwords to /root/nltk_data...\n",
            "[nltk_data]   Package stopwords is already up-to-date!\n",
            "[nltk_data] Downloading package punkt to /root/nltk_data...\n",
            "[nltk_data]   Package punkt is already up-to-date!\n"
          ]
        }
      ]
    },
    {
      "cell_type": "code",
      "metadata": {
        "colab": {
          "base_uri": "https://localhost:8080/",
          "height": 203
        },
        "id": "q_Mm7ZA4DCwf",
        "outputId": "ad0f247a-fa13-4979-8629-9b0d147aaf4c"
      },
      "source": [
        "# Before preprocessing\n",
        "df[['message', 'label']].iloc[range(5)]"
      ],
      "execution_count": 60,
      "outputs": [
        {
          "output_type": "execute_result",
          "data": {
            "text/html": [
              "<div>\n",
              "<style scoped>\n",
              "    .dataframe tbody tr th:only-of-type {\n",
              "        vertical-align: middle;\n",
              "    }\n",
              "\n",
              "    .dataframe tbody tr th {\n",
              "        vertical-align: top;\n",
              "    }\n",
              "\n",
              "    .dataframe thead th {\n",
              "        text-align: right;\n",
              "    }\n",
              "</style>\n",
              "<table border=\"1\" class=\"dataframe\">\n",
              "  <thead>\n",
              "    <tr style=\"text-align: right;\">\n",
              "      <th></th>\n",
              "      <th>message</th>\n",
              "      <th>label</th>\n",
              "    </tr>\n",
              "  </thead>\n",
              "  <tbody>\n",
              "    <tr>\n",
              "      <th>0</th>\n",
              "      <td>@funkycarla8 It is a bit of both. Got some clo...</td>\n",
              "      <td>0</td>\n",
              "    </tr>\n",
              "    <tr>\n",
              "      <th>1</th>\n",
              "      <td>@em_c Good try  Well done with the painting by...</td>\n",
              "      <td>0</td>\n",
              "    </tr>\n",
              "    <tr>\n",
              "      <th>2</th>\n",
              "      <td>Meditation can contribute to your overall well...</td>\n",
              "      <td>1</td>\n",
              "    </tr>\n",
              "    <tr>\n",
              "      <th>3</th>\n",
              "      <td>@SENexchange #SENexhange as above, majority of...</td>\n",
              "      <td>1</td>\n",
              "    </tr>\n",
              "    <tr>\n",
              "      <th>4</th>\n",
              "      <td>@SunixRS depression</td>\n",
              "      <td>1</td>\n",
              "    </tr>\n",
              "  </tbody>\n",
              "</table>\n",
              "</div>"
            ],
            "text/plain": [
              "                                             message  label\n",
              "0  @funkycarla8 It is a bit of both. Got some clo...      0\n",
              "1  @em_c Good try  Well done with the painting by...      0\n",
              "2  Meditation can contribute to your overall well...      1\n",
              "3  @SENexchange #SENexhange as above, majority of...      1\n",
              "4                                @SunixRS depression      1"
            ]
          },
          "metadata": {},
          "execution_count": 60
        }
      ]
    },
    {
      "cell_type": "code",
      "metadata": {
        "id": "n-RvkzibDRnr"
      },
      "source": [
        "# Applying preprocessing\n",
        "\n",
        "df['message'] = df['message'].apply(remove_mlt)\n",
        "df['message'] = df['message'].apply(remove_stopwords)\n",
        "df['message'] = df['message'].apply(remove_punctuations)\n"
      ],
      "execution_count": 61,
      "outputs": []
    },
    {
      "cell_type": "code",
      "metadata": {
        "colab": {
          "base_uri": "https://localhost:8080/",
          "height": 203
        },
        "id": "STH8XbPwDa5T",
        "outputId": "1d807fcb-ae96-447e-a2a6-614d145cf7bd"
      },
      "source": [
        "# After preprocessing\n",
        "df[['message', 'label']].iloc[range(5)]"
      ],
      "execution_count": 62,
      "outputs": [
        {
          "output_type": "execute_result",
          "data": {
            "text/html": [
              "<div>\n",
              "<style scoped>\n",
              "    .dataframe tbody tr th:only-of-type {\n",
              "        vertical-align: middle;\n",
              "    }\n",
              "\n",
              "    .dataframe tbody tr th {\n",
              "        vertical-align: top;\n",
              "    }\n",
              "\n",
              "    .dataframe thead th {\n",
              "        text-align: right;\n",
              "    }\n",
              "</style>\n",
              "<table border=\"1\" class=\"dataframe\">\n",
              "  <thead>\n",
              "    <tr style=\"text-align: right;\">\n",
              "      <th></th>\n",
              "      <th>message</th>\n",
              "      <th>label</th>\n",
              "    </tr>\n",
              "  </thead>\n",
              "  <tbody>\n",
              "    <tr>\n",
              "      <th>0</th>\n",
              "      <td>It bit Got clothes shoes new watch good day Th...</td>\n",
              "      <td>0</td>\n",
              "    </tr>\n",
              "    <tr>\n",
              "      <th>1</th>\n",
              "      <td>_c Good try Well done painting way</td>\n",
              "      <td>0</td>\n",
              "    </tr>\n",
              "    <tr>\n",
              "      <th>2</th>\n",
              "      <td>Meditation contribute overall well-being decre...</td>\n",
              "      <td>1</td>\n",
              "    </tr>\n",
              "    <tr>\n",
              "      <th>3</th>\n",
              "      <td>SENexhange majority mental health I deal relat...</td>\n",
              "      <td>1</td>\n",
              "    </tr>\n",
              "    <tr>\n",
              "      <th>4</th>\n",
              "      <td>depression</td>\n",
              "      <td>1</td>\n",
              "    </tr>\n",
              "  </tbody>\n",
              "</table>\n",
              "</div>"
            ],
            "text/plain": [
              "                                             message  label\n",
              "0  It bit Got clothes shoes new watch good day Th...      0\n",
              "1                 _c Good try Well done painting way      0\n",
              "2  Meditation contribute overall well-being decre...      1\n",
              "3  SENexhange majority mental health I deal relat...      1\n",
              "4                                         depression      1"
            ]
          },
          "metadata": {},
          "execution_count": 62
        }
      ]
    },
    {
      "cell_type": "code",
      "metadata": {
        "colab": {
          "base_uri": "https://localhost:8080/"
        },
        "id": "clnQO8BiDeEF",
        "outputId": "0ed8a7f4-2a9d-47e5-a03d-66dcde7b0d1a"
      },
      "source": [
        "print(df['label'].value_counts(0))\n"
      ],
      "execution_count": 10,
      "outputs": [
        {
          "output_type": "stream",
          "name": "stdout",
          "text": [
            "0    8000\n",
            "1    2314\n",
            "Name: label, dtype: int64\n"
          ]
        }
      ]
    },
    {
      "cell_type": "markdown",
      "metadata": {
        "id": "KYwGunOHdn-V"
      },
      "source": [
        "# Word Embedding"
      ]
    },
    {
      "cell_type": "code",
      "metadata": {
        "colab": {
          "base_uri": "https://localhost:8080/"
        },
        "id": "PBkYxvESXquV",
        "outputId": "fecc1a23-9a3f-4b5c-84ad-6f083a7ba834"
      },
      "source": [
        "dataset = df\n",
        "unique_label = np.unique(df[\"label\"])\n",
        "num_classes = len(unique_label)\n",
        "\n",
        "from sklearn.model_selection import train_test_split\n",
        "X_train, X_test, y_train, y_test = train_test_split(dataset['message'].values, pd.get_dummies(dataset['label']).values, test_size=0.20)\n",
        "\n",
        "MAX_NB_WORDS = 20000\n",
        "MAX_SEQUENCE_LENGTH = 200\n",
        "EMBEDDING_DIM = 100\n",
        "\n",
        "tokenizer = Tokenizer(num_words=MAX_NB_WORDS)\n",
        "tokenizer.fit_on_texts(X_train)\n",
        "tokenizer.fit_on_texts(X_test)\n",
        "word_index = tokenizer.word_index\n",
        "print('Found %s unique tokens.' % len(word_index))\n",
        "# print(word_index)\n",
        "\n",
        "\n",
        "train_seq = tokenizer.texts_to_sequences(X_train)\n",
        "test_seq = tokenizer.texts_to_sequences(X_test)\n",
        "pad_train = pad_sequences(train_seq, maxlen=MAX_SEQUENCE_LENGTH)\n",
        "pad_test = pad_sequences(test_seq, maxlen=MAX_SEQUENCE_LENGTH)\n",
        "print('Shape of data tensor:', pad_train.shape)"
      ],
      "execution_count": 11,
      "outputs": [
        {
          "output_type": "stream",
          "name": "stdout",
          "text": [
            "Found 17840 unique tokens.\n",
            "Shape of data tensor: (8251, 200)\n"
          ]
        }
      ]
    },
    {
      "cell_type": "markdown",
      "metadata": {
        "id": "mqV4xb9xd0jQ"
      },
      "source": [
        "# Bidirectional RNN"
      ]
    },
    {
      "cell_type": "code",
      "metadata": {
        "colab": {
          "base_uri": "https://localhost:8080/"
        },
        "id": "qU-BTHnZciNO",
        "outputId": "a4e8d396-b13a-4500-9454-142484176088"
      },
      "source": [
        "from keras import layers\n",
        "model = Sequential()\n",
        "model.add(layers.Embedding(MAX_NB_WORDS, EMBEDDING_DIM, input_length=pad_train.shape[1]))\n",
        "#model.add(layers.Bidirectional(layers.SimpleRNN(10, return_sequences=True), input_shape=(5, 10)))\n",
        "model.add(layers.Bidirectional(layers.SimpleRNN(100, activation= 'relu', return_sequences = True, dropout = 0.5)))\n",
        "model.add(layers.Bidirectional(layers.SimpleRNN(100, activation= 'relu', return_sequences=True, dropout = 0.5)))\n",
        "model.add(layers.Bidirectional(layers.SimpleRNN(100, activation= 'relu', return_sequences=True, dropout = 0.5)))\n",
        "model.add(layers.Bidirectional(layers.SimpleRNN(100, activation= 'relu', dropout = 0.5)))\n",
        "model.add(layers.Dense(2, activation = 'sigmoid'))\n",
        "model.compile(loss='binary_crossentropy', optimizer='adam', metrics=['accuracy'])\n",
        "\n",
        "epochs = 10\n",
        "batch_size = 128\n",
        "model.summary()\n"
      ],
      "execution_count": 12,
      "outputs": [
        {
          "output_type": "stream",
          "name": "stdout",
          "text": [
            "Model: \"sequential\"\n",
            "_________________________________________________________________\n",
            "Layer (type)                 Output Shape              Param #   \n",
            "=================================================================\n",
            "embedding (Embedding)        (None, 200, 100)          2000000   \n",
            "_________________________________________________________________\n",
            "bidirectional (Bidirectional (None, 200, 200)          40200     \n",
            "_________________________________________________________________\n",
            "bidirectional_1 (Bidirection (None, 200, 200)          60200     \n",
            "_________________________________________________________________\n",
            "bidirectional_2 (Bidirection (None, 200, 200)          60200     \n",
            "_________________________________________________________________\n",
            "bidirectional_3 (Bidirection (None, 200)               60200     \n",
            "_________________________________________________________________\n",
            "dense (Dense)                (None, 2)                 402       \n",
            "=================================================================\n",
            "Total params: 2,221,202\n",
            "Trainable params: 2,221,202\n",
            "Non-trainable params: 0\n",
            "_________________________________________________________________\n"
          ]
        }
      ]
    },
    {
      "cell_type": "code",
      "metadata": {
        "colab": {
          "base_uri": "https://localhost:8080/"
        },
        "id": "10nbNCDgHQt4",
        "outputId": "9bc4c4c3-d1c6-42ab-a860-a7be7a03f571"
      },
      "source": [
        "history = model.fit(pad_train, y_train, epochs=epochs,validation_split=0.2)"
      ],
      "execution_count": 13,
      "outputs": [
        {
          "output_type": "stream",
          "name": "stdout",
          "text": [
            "Epoch 1/10\n",
            "207/207 [==============================] - 170s 788ms/step - loss: 39637816.0000 - accuracy: 0.8738 - val_loss: 0.0403 - val_accuracy: 0.9903\n",
            "Epoch 2/10\n",
            "207/207 [==============================] - 163s 786ms/step - loss: 21.4823 - accuracy: 0.9795 - val_loss: 0.0585 - val_accuracy: 0.9855\n",
            "Epoch 3/10\n",
            "207/207 [==============================] - 161s 780ms/step - loss: 0.0125 - accuracy: 0.9976 - val_loss: 0.0405 - val_accuracy: 0.9927\n",
            "Epoch 4/10\n",
            "207/207 [==============================] - 163s 786ms/step - loss: 0.0134 - accuracy: 0.9989 - val_loss: 0.2853 - val_accuracy: 0.9637\n",
            "Epoch 5/10\n",
            "207/207 [==============================] - 163s 787ms/step - loss: 0.0167 - accuracy: 0.9973 - val_loss: 0.0377 - val_accuracy: 0.9921\n",
            "Epoch 6/10\n",
            "207/207 [==============================] - 163s 789ms/step - loss: 0.0012 - accuracy: 0.9997 - val_loss: 0.0376 - val_accuracy: 0.9909\n",
            "Epoch 7/10\n",
            "207/207 [==============================] - 162s 783ms/step - loss: 8.7652e-04 - accuracy: 0.9997 - val_loss: 0.0367 - val_accuracy: 0.9933\n",
            "Epoch 8/10\n",
            "207/207 [==============================] - 162s 783ms/step - loss: 3.3464e-04 - accuracy: 0.9998 - val_loss: 0.0372 - val_accuracy: 0.9921\n",
            "Epoch 9/10\n",
            "207/207 [==============================] - 162s 782ms/step - loss: 2.2510e-04 - accuracy: 1.0000 - val_loss: 0.0377 - val_accuracy: 0.9945\n",
            "Epoch 10/10\n",
            "207/207 [==============================] - 163s 787ms/step - loss: 6.3473e-05 - accuracy: 1.0000 - val_loss: 0.0384 - val_accuracy: 0.9945\n"
          ]
        }
      ]
    },
    {
      "cell_type": "code",
      "metadata": {
        "colab": {
          "base_uri": "https://localhost:8080/"
        },
        "id": "nZBDHJOo7Hit",
        "outputId": "f4f7cff5-f763-4d5c-b8af-abf6c78faf8e"
      },
      "source": [
        "history = model.fit(pad_train, y_train, epochs=epochs,batch_size= batch_size)"
      ],
      "execution_count": 15,
      "outputs": [
        {
          "output_type": "stream",
          "name": "stdout",
          "text": [
            "Epoch 1/10\n",
            "65/65 [==============================] - 148s 2s/step - loss: 0.0104 - accuracy: 0.9985\n",
            "Epoch 2/10\n",
            "65/65 [==============================] - 139s 2s/step - loss: 0.0043 - accuracy: 0.9995\n",
            "Epoch 3/10\n",
            "65/65 [==============================] - 145s 2s/step - loss: 0.0017 - accuracy: 0.9998\n",
            "Epoch 4/10\n",
            "65/65 [==============================] - 147s 2s/step - loss: 0.0026 - accuracy: 0.9998\n",
            "Epoch 5/10\n",
            "65/65 [==============================] - 148s 2s/step - loss: 0.0019 - accuracy: 0.9996\n",
            "Epoch 6/10\n",
            "65/65 [==============================] - 148s 2s/step - loss: 0.0022 - accuracy: 0.9998\n",
            "Epoch 7/10\n",
            "65/65 [==============================] - 152s 2s/step - loss: 0.0031 - accuracy: 0.9994\n",
            "Epoch 8/10\n",
            "65/65 [==============================] - 145s 2s/step - loss: 0.0018 - accuracy: 0.9998\n",
            "Epoch 9/10\n",
            "65/65 [==============================] - 139s 2s/step - loss: 0.0019 - accuracy: 0.9995\n",
            "Epoch 10/10\n",
            "65/65 [==============================] - 137s 2s/step - loss: 0.0018 - accuracy: 0.9998\n"
          ]
        }
      ]
    },
    {
      "cell_type": "code",
      "metadata": {
        "colab": {
          "base_uri": "https://localhost:8080/",
          "height": 542
        },
        "id": "ryd2iid_7Yn1",
        "outputId": "7caa3ca4-af00-43c7-acf8-3f8aa2975597"
      },
      "source": [
        "def plot_graphs(history, string):\n",
        "  plt.plot(history.history[string])\n",
        "  plt.xlabel(\"Epochs\")\n",
        "  plt.ylabel(string)\n",
        "  plt.show()\n",
        "\n",
        "plot_graphs(history, 'accuracy')\n",
        "plot_graphs(history, 'loss')"
      ],
      "execution_count": 26,
      "outputs": [
        {
          "output_type": "display_data",
          "data": {
            "image/png": "[encoded data removed]",
            "text/plain": [
              "<Figure size 432x288 with 1 Axes>"
            ]
          },
          "metadata": {
            "needs_background": "light"
          }
        },
        {
          "output_type": "display_data",
          "data": {
            "image/png": "[encoded data removed]",
            "text/plain": [
              "<Figure size 432x288 with 1 Axes>"
            ]
          },
          "metadata": {
            "needs_background": "light"
          }
        }
      ]
    },
    {
      "cell_type": "markdown",
      "metadata": {
        "id": "uC2fRzouXiVd"
      },
      "source": [
        "# Confusion Matrix (Train Data)"
      ]
    },
    {
      "cell_type": "code",
      "metadata": {
        "colab": {
          "base_uri": "https://localhost:8080/",
          "height": 295
        },
        "id": "9wvA14RVXmYU",
        "outputId": "d4221d1d-8950-44ff-d36d-b40368892773"
      },
      "source": [
        "y_pred = model.predict(pad_train)\n",
        "\n",
        "new_y_pred = np.argmax(y_pred, axis=1)\n",
        "new_y_train = np.argmax(y_train, axis=1)\n",
        "\n",
        "sb.heatmap(confusion_matrix(new_y_train, new_y_pred), annot = True, fmt = 'g')\n",
        "plt.title('Confusion Matrix')\n",
        "plt.ylabel('Predicted')\n",
        "plt.xlabel('True')\n",
        "plt.show()"
      ],
      "execution_count": 63,
      "outputs": [
        {
          "output_type": "display_data",
          "data": {
            "image/png": "[encoded data removed]",
            "text/plain": [
              "<Figure size 432x288 with 2 Axes>"
            ]
          },
          "metadata": {
            "needs_background": "light"
          }
        }
      ]
    },
    {
      "cell_type": "markdown",
      "metadata": {
        "id": "xjJCZ47yYDzL"
      },
      "source": [
        "# Model Performance (Train Data)"
      ]
    },
    {
      "cell_type": "code",
      "metadata": {
        "colab": {
          "base_uri": "https://localhost:8080/"
        },
        "id": "PNzgo9iNYH_b",
        "outputId": "0cd27b48-8a8c-491d-b99d-ad4cb5d6802d"
      },
      "source": [
        "evaluation = model.evaluate(pad_train,y_train)\n",
        "accuracy = evaluation[1] * 100\n",
        "precision =   precision_score(new_y_train, new_y_pred) * 100\n",
        "recall =  recall_score(new_y_train, new_y_pred) * 100\n",
        "f1_score =  f1_score(new_y_train, new_y_pred) * 100\n",
        "print(\"Accuracy: \", accuracy)\n",
        "print(\"Precision: \", precision)\n",
        "print(\"Recall: \", recall)\n",
        "print(\"F1-Score: \", f1_score)"
      ],
      "execution_count": 67,
      "outputs": [
        {
          "output_type": "stream",
          "name": "stdout",
          "text": [
            "258/258 [==============================] - 37s 144ms/step - loss: 7.4747e-04 - accuracy: 0.9998\n",
            "Accuracy:  99.97575879096985\n",
            "Precision:  100.0\n",
            "Recall:  99.89350372736953\n",
            "F1-Score:  99.94672349493872\n"
          ]
        }
      ]
    },
    {
      "cell_type": "markdown",
      "metadata": {
        "id": "0RsRddKKMo3W"
      },
      "source": [
        "# Confusion Matrix (Test Data)"
      ]
    },
    {
      "cell_type": "code",
      "metadata": {
        "colab": {
          "base_uri": "https://localhost:8080/",
          "height": 295
        },
        "id": "Sky2aOUdMoBo",
        "outputId": "51209a06-5707-4c35-ac97-ea072cde2f17"
      },
      "source": [
        "y_pred = model.predict(pad_test)\n",
        "\n",
        "new_y_pred = np.argmax(y_pred, axis=1)\n",
        "new_y_test = np.argmax(y_test, axis=1)\n",
        "\n",
        "sb.heatmap(confusion_matrix(new_y_test, new_y_pred), annot = True, fmt = 'g')\n",
        "plt.title('Confusion Matrix')\n",
        "plt.ylabel('Predicted')\n",
        "plt.xlabel('True')\n",
        "plt.show()\n"
      ],
      "execution_count": 36,
      "outputs": [
        {
          "output_type": "display_data",
          "data": {
            "image/png": "[encoded data removed]",
            "text/plain": [
              "<Figure size 432x288 with 2 Axes>"
            ]
          },
          "metadata": {
            "needs_background": "light"
          }
        }
      ]
    },
    {
      "cell_type": "markdown",
      "metadata": {
        "id": "ZaMYV0XISsSE"
      },
      "source": [
        "# Model Performance (Test Data)"
      ]
    },
    {
      "cell_type": "code",
      "metadata": {
        "colab": {
          "base_uri": "https://localhost:8080/"
        },
        "id": "eAG1zsIvEq_i",
        "outputId": "9bb7e40a-307a-445d-94c1-585b26d7c26c"
      },
      "source": [
        "evaluation = model.evaluate(pad_test,y_test)\n",
        "accuracy = evaluation[1] * 100\n",
        "precision =   precision_score(new_y_test, new_y_pred) * 100\n",
        "recall =  recall_score(new_y_test, new_y_pred) * 100\n",
        "f1_score =  f1_score(new_y_test, new_y_pred) * 100\n",
        "print(\"Accuracy: \", accuracy)\n",
        "print(\"Precision: \", precision)\n",
        "print(\"Recall: \", recall)\n",
        "print(\"F1-Score: \", f1_score)\n"
      ],
      "execution_count": 49,
      "outputs": [
        {
          "output_type": "stream",
          "name": "stdout",
          "text": [
            "65/65 [==============================] - 10s 150ms/step - loss: 0.0280 - accuracy: 0.9956\n",
            "Accuracy:  99.56374168395996\n",
            "Precision:  99.08045977011494\n",
            "Recall:  98.85321100917432\n",
            "F1-Score:  98.96670493685419\n"
          ]
        }
      ]
    },
    {
      "cell_type": "code",
      "metadata": {
        "id": "5uIqSsnMPwgQ"
      },
      "source": [
        ""
      ],
      "execution_count": null,
      "outputs": []
    }
  ]
}